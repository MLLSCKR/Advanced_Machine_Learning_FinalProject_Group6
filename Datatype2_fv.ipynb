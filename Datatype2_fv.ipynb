{
 "cells": [
  {
   "cell_type": "code",
   "execution_count": 1,
   "metadata": {
    "id": "zMcKBCQ6Pk59"
   },
   "outputs": [],
   "source": [
    "import pandas as pd\n",
    "import numpy as np"
   ]
  },
  {
   "cell_type": "code",
   "execution_count": 2,
   "metadata": {
    "id": "Wz4V_NMTP3tv"
   },
   "outputs": [],
   "source": [
    "df_train = pd.read_csv(\"w_red_train.csv\")\n",
    "df_test = pd.read_csv(\"w_red_test.csv\")"
   ]
  },
  {
   "cell_type": "markdown",
   "metadata": {
    "id": "HKD5TU8tQiDR"
   },
   "source": [
    "#### Oversampling"
   ]
  },
  {
   "cell_type": "code",
   "execution_count": 3,
   "metadata": {
    "colab": {
     "base_uri": "https://localhost:8080/"
    },
    "executionInfo": {
     "elapsed": 14,
     "status": "ok",
     "timestamp": 1670417009439,
     "user": {
      "displayName": "우자",
      "userId": "03988273073279604493"
     },
     "user_tz": -540
    },
    "id": "7jxIgKvnQh7S",
    "outputId": "6693fc0d-b202-4040-e143-2170ce6c1e71"
   },
   "outputs": [
    {
     "data": {
      "text/plain": [
       "(array([3, 4, 5, 6, 7, 8], dtype=int64),\n",
       " array([  6,  34, 443, 415, 129,  12], dtype=int64))"
      ]
     },
     "execution_count": 3,
     "metadata": {},
     "output_type": "execute_result"
    }
   ],
   "source": [
    "np.unique(df_train['quality'], return_counts = True)"
   ]
  },
  {
   "cell_type": "code",
   "execution_count": 4,
   "metadata": {
    "id": "CWR6H58tWK23"
   },
   "outputs": [],
   "source": [
    "columns = list(df_train.columns)\n",
    "\n",
    "if 'quality' in columns:\n",
    "  columns.remove('quality')\n",
    "if 'type' in columns:\n",
    "  columns.remove('type')\n",
    "\n",
    "X_train = df_train[columns]\n",
    "y_train = df_train['quality']\n",
    "\n",
    "X_test = df_test[columns]\n",
    "y_test = df_test['quality']"
   ]
  },
  {
   "cell_type": "markdown",
   "metadata": {
    "id": "ZkGo0YqBkiif"
   },
   "source": [
    "Using smapling strategy for generating minority class sufficiently"
   ]
  },
  {
   "cell_type": "code",
   "execution_count": 5,
   "metadata": {
    "colab": {
     "base_uri": "https://localhost:8080/"
    },
    "executionInfo": {
     "elapsed": 13,
     "status": "ok",
     "timestamp": 1670417009441,
     "user": {
      "displayName": "우자",
      "userId": "03988273073279604493"
     },
     "user_tz": -540
    },
    "id": "h_wrSJDiQh4u",
    "outputId": "f06e00a3-d82f-432d-d01d-3205dc8a5677"
   },
   "outputs": [
    {
     "name": "stderr",
     "output_type": "stream",
     "text": [
      "C:\\Users\\user\\AppData\\Roaming\\Python\\Python39\\site-packages\\imblearn\\utils\\_validation.py:299: UserWarning: After over-sampling, the number of samples (1200) in class 3 will be larger than the number of samples in the majority class (class #5 -> 443)\n",
      "  warnings.warn(\n",
      "C:\\Users\\user\\AppData\\Roaming\\Python\\Python39\\site-packages\\imblearn\\utils\\_validation.py:299: UserWarning: After over-sampling, the number of samples (1200) in class 4 will be larger than the number of samples in the majority class (class #5 -> 443)\n",
      "  warnings.warn(\n",
      "C:\\Users\\user\\AppData\\Roaming\\Python\\Python39\\site-packages\\imblearn\\utils\\_validation.py:299: UserWarning: After over-sampling, the number of samples (1200) in class 7 will be larger than the number of samples in the majority class (class #5 -> 443)\n",
      "  warnings.warn(\n",
      "C:\\Users\\user\\AppData\\Roaming\\Python\\Python39\\site-packages\\imblearn\\utils\\_validation.py:299: UserWarning: After over-sampling, the number of samples (1200) in class 8 will be larger than the number of samples in the majority class (class #5 -> 443)\n",
      "  warnings.warn(\n",
      "C:\\Users\\user\\AppData\\Roaming\\Python\\Python39\\site-packages\\imblearn\\utils\\_validation.py:299: UserWarning: After over-sampling, the number of samples (1200) in class 3 will be larger than the number of samples in the majority class (class #5 -> 443)\n",
      "  warnings.warn(\n",
      "C:\\Users\\user\\AppData\\Roaming\\Python\\Python39\\site-packages\\imblearn\\utils\\_validation.py:299: UserWarning: After over-sampling, the number of samples (1200) in class 4 will be larger than the number of samples in the majority class (class #5 -> 443)\n",
      "  warnings.warn(\n",
      "C:\\Users\\user\\AppData\\Roaming\\Python\\Python39\\site-packages\\imblearn\\utils\\_validation.py:299: UserWarning: After over-sampling, the number of samples (1200) in class 7 will be larger than the number of samples in the majority class (class #5 -> 443)\n",
      "  warnings.warn(\n",
      "C:\\Users\\user\\AppData\\Roaming\\Python\\Python39\\site-packages\\imblearn\\utils\\_validation.py:299: UserWarning: After over-sampling, the number of samples (1200) in class 8 will be larger than the number of samples in the majority class (class #5 -> 443)\n",
      "  warnings.warn(\n",
      "C:\\Users\\user\\AppData\\Roaming\\Python\\Python39\\site-packages\\imblearn\\utils\\_validation.py:299: UserWarning: After over-sampling, the number of samples (1200) in class 3 will be larger than the number of samples in the majority class (class #5 -> 443)\n",
      "  warnings.warn(\n",
      "C:\\Users\\user\\AppData\\Roaming\\Python\\Python39\\site-packages\\imblearn\\utils\\_validation.py:299: UserWarning: After over-sampling, the number of samples (1200) in class 4 will be larger than the number of samples in the majority class (class #5 -> 443)\n",
      "  warnings.warn(\n",
      "C:\\Users\\user\\AppData\\Roaming\\Python\\Python39\\site-packages\\imblearn\\utils\\_validation.py:299: UserWarning: After over-sampling, the number of samples (1200) in class 7 will be larger than the number of samples in the majority class (class #5 -> 443)\n",
      "  warnings.warn(\n",
      "C:\\Users\\user\\AppData\\Roaming\\Python\\Python39\\site-packages\\imblearn\\utils\\_validation.py:299: UserWarning: After over-sampling, the number of samples (1200) in class 8 will be larger than the number of samples in the majority class (class #5 -> 443)\n",
      "  warnings.warn(\n",
      "C:\\Users\\user\\AppData\\Roaming\\Python\\Python39\\site-packages\\imblearn\\utils\\_validation.py:299: UserWarning: After over-sampling, the number of samples (1200) in class 3 will be larger than the number of samples in the majority class (class #5 -> 443)\n",
      "  warnings.warn(\n",
      "C:\\Users\\user\\AppData\\Roaming\\Python\\Python39\\site-packages\\imblearn\\utils\\_validation.py:299: UserWarning: After over-sampling, the number of samples (1200) in class 4 will be larger than the number of samples in the majority class (class #5 -> 443)\n",
      "  warnings.warn(\n",
      "C:\\Users\\user\\AppData\\Roaming\\Python\\Python39\\site-packages\\imblearn\\utils\\_validation.py:299: UserWarning: After over-sampling, the number of samples (1200) in class 7 will be larger than the number of samples in the majority class (class #5 -> 443)\n",
      "  warnings.warn(\n",
      "C:\\Users\\user\\AppData\\Roaming\\Python\\Python39\\site-packages\\imblearn\\utils\\_validation.py:299: UserWarning: After over-sampling, the number of samples (1200) in class 8 will be larger than the number of samples in the majority class (class #5 -> 443)\n",
      "  warnings.warn(\n"
     ]
    }
   ],
   "source": [
    "### Oversampling\n",
    "up_target = {3: 1200, 4:1200, 7:1200, 8:1200}\n",
    "\n",
    "# 1. SMOTE\n",
    "from imblearn.over_sampling import SMOTE\n",
    "\n",
    "sm = SMOTE(sampling_strategy = up_target, k_neighbors = 2, random_state = 0)\n",
    "X_red_sm, y_red_sm = sm.fit_resample(X_train, y_train)\n",
    "df_red_sm = X_red_sm.copy()\n",
    "df_red_sm['quality'] = y_red_sm\n",
    "\n",
    "# 2. ADASYN\n",
    "from imblearn.over_sampling import ADASYN\n",
    "\n",
    "ads = ADASYN(sampling_strategy = up_target, random_state = 0)\n",
    "X_red_ads, y_red_ads = ads.fit_resample(X_train, y_train)\n",
    "df_red_ads = X_red_ads.copy()\n",
    "df_red_ads['quality'] = y_red_ads\n",
    "\n",
    "# 3. SMOTETomek\n",
    "from imblearn.combine import SMOTETomek\n",
    "\n",
    "smt = SMOTETomek(smote = sm, random_state = 0)\n",
    "X_red_smt, y_red_smt = smt.fit_resample(X_train, y_train)\n",
    "df_red_smt = X_red_smt.copy()\n",
    "df_red_smt['quality'] = y_red_smt\n",
    "\n",
    "# 4. Borderline SMOTE\n",
    "from imblearn.over_sampling import BorderlineSMOTE\n",
    "\n",
    "bsm = BorderlineSMOTE(sampling_strategy = up_target, random_state = 0)\n",
    "X_red_bsm, y_red_bsm = bsm.fit_resample(X_train, y_train)\n",
    "df_red_bsm = X_red_bsm.copy()\n",
    "df_red_bsm['quality'] = y_red_bsm"
   ]
  },
  {
   "cell_type": "markdown",
   "metadata": {
    "id": "HoWqyFbyXpHl"
   },
   "source": [
    "#### Extract Newly Oversampled Samples"
   ]
  },
  {
   "cell_type": "code",
   "execution_count": 6,
   "metadata": {
    "id": "yKFXWxr7Qh2J"
   },
   "outputs": [],
   "source": [
    "def Extract_New_Samples(df_up, df_org):\n",
    "  # Step1. Extract newly oversampled minorioty class samples from df_up\n",
    "  X_up_list = []\n",
    "  X_org_list = []\n",
    "\n",
    "  for i in range(len(df_up)):\n",
    "    X_up_list.append(df_up.iloc[i])\n",
    "  \n",
    "  for i in range(len(df_org)):\n",
    "    X_org_list.append(df_org.iloc[i])\n",
    "\n",
    "  columns = df_org.columns\n",
    "  df_new = pd.DataFrame(columns = columns)\n",
    "  print(df_new)\n",
    "  idx = 0\n",
    "\n",
    "  for i in X_up_list:\n",
    "    trig = True\n",
    "    #print(list(i))\n",
    "    for j in X_org_list:\n",
    "      if list(i) == list(j):\n",
    "        trig = False\n",
    "    \n",
    "    if trig == True:\n",
    "      df_new.loc[idx] = i\n",
    "      idx += 1\n",
    "\n",
    "  return df_new"
   ]
  },
  {
   "cell_type": "code",
   "execution_count": 7,
   "metadata": {
    "colab": {
     "base_uri": "https://localhost:8080/"
    },
    "executionInfo": {
     "elapsed": 244463,
     "status": "ok",
     "timestamp": 1670417253896,
     "user": {
      "displayName": "우자",
      "userId": "03988273073279604493"
     },
     "user_tz": -540
    },
    "id": "Uu6alzbyQhzm",
    "outputId": "9e2908c8-48fe-4344-b0db-cf301ab1bca7"
   },
   "outputs": [
    {
     "name": "stdout",
     "output_type": "stream",
     "text": [
      "Empty DataFrame\n",
      "Columns: [fixed acidity, volatile acidity, citric acid, residual sugar, chlorides, free sulfur dioxide, total sulfur dioxide, density, pH, sulphates, alcohol, quality]\n",
      "Index: []\n",
      "Empty DataFrame\n",
      "Columns: [fixed acidity, volatile acidity, citric acid, residual sugar, chlorides, free sulfur dioxide, total sulfur dioxide, density, pH, sulphates, alcohol, quality]\n",
      "Index: []\n",
      "Empty DataFrame\n",
      "Columns: [fixed acidity, volatile acidity, citric acid, residual sugar, chlorides, free sulfur dioxide, total sulfur dioxide, density, pH, sulphates, alcohol, quality]\n",
      "Index: []\n",
      "Empty DataFrame\n",
      "Columns: [fixed acidity, volatile acidity, citric acid, residual sugar, chlorides, free sulfur dioxide, total sulfur dioxide, density, pH, sulphates, alcohol, quality]\n",
      "Index: []\n"
     ]
    }
   ],
   "source": [
    "list_df_up = [df_red_sm, df_red_ads, df_red_smt, df_red_bsm]\n",
    "list_new_sample = []\n",
    "\n",
    "for df in list_df_up:\n",
    "  temp_df = Extract_New_Samples(df, df_train)\n",
    "  list_new_sample.append(temp_df)"
   ]
  },
  {
   "cell_type": "markdown",
   "metadata": {
    "id": "kEchiuMOZVLb"
   },
   "source": [
    "#### Classification and Result with SMOTE"
   ]
  },
  {
   "cell_type": "markdown",
   "metadata": {
    "id": "1P2NqC3NZYWQ"
   },
   "source": [
    "Construct New training set by Combining newly oversampled"
   ]
  },
  {
   "cell_type": "code",
   "execution_count": 8,
   "metadata": {
    "id": "rQGOFzDzQg_p"
   },
   "outputs": [],
   "source": [
    "df_train_sm = pd.concat([df_train, list_new_sample[0].sample(n = 1479, random_state = 0)], axis = 0, ignore_index = True)"
   ]
  },
  {
   "cell_type": "code",
   "execution_count": 9,
   "metadata": {
    "id": "-kE9bR0UZ87y"
   },
   "outputs": [],
   "source": [
    "X_train = df_train_sm[columns]\n",
    "y_train = df_train_sm['quality']"
   ]
  },
  {
   "cell_type": "markdown",
   "metadata": {
    "id": "GJcN1TvgLiS0"
   },
   "source": [
    "1. Random Forest"
   ]
  },
  {
   "cell_type": "code",
   "execution_count": 10,
   "metadata": {
    "id": "BuC4sEopLc7y"
   },
   "outputs": [],
   "source": [
    "# RF\n",
    "from sklearn.ensemble import RandomForestClassifier\n",
    "\n",
    "clf = RandomForestClassifier(random_state = 0)\n",
    "clf.fit(X_train, y_train)\n",
    "\n",
    "rf_y_pred = clf.predict(X_test)"
   ]
  },
  {
   "cell_type": "markdown",
   "metadata": {
    "id": "sJpt02ereGNc"
   },
   "source": [
    "Evaluate\n"
   ]
  },
  {
   "cell_type": "code",
   "execution_count": 11,
   "metadata": {
    "colab": {
     "base_uri": "https://localhost:8080/"
    },
    "executionInfo": {
     "elapsed": 4,
     "status": "ok",
     "timestamp": 1670417254678,
     "user": {
      "displayName": "우자",
      "userId": "03988273073279604493"
     },
     "user_tz": -540
    },
    "id": "v8K3iiJjLT5F",
    "outputId": "c2668f55-4c47-4efe-ea1c-479bf4b1db8c"
   },
   "outputs": [
    {
     "name": "stdout",
     "output_type": "stream",
     "text": [
      "[[  1   1   2   0   0   0]\n",
      " [  2   3   8   5   1   0]\n",
      " [  3  12 186  35   2   0]\n",
      " [  0   6  59 128  28   2]\n",
      " [  0   0   2  20  45   3]\n",
      " [  0   0   0   0   6   0]]\n",
      "              precision    recall  f1-score   support\n",
      "\n",
      "           3       0.17      0.25      0.20         4\n",
      "           4       0.14      0.16      0.15        19\n",
      "           5       0.72      0.78      0.75       238\n",
      "           6       0.68      0.57      0.62       223\n",
      "           7       0.55      0.64      0.59        70\n",
      "           8       0.00      0.00      0.00         6\n",
      "\n",
      "    accuracy                           0.65       560\n",
      "   macro avg       0.38      0.40      0.39       560\n",
      "weighted avg       0.65      0.65      0.65       560\n",
      "\n"
     ]
    }
   ],
   "source": [
    "from sklearn.metrics import confusion_matrix, classification_report\n",
    "\n",
    "print(confusion_matrix(y_test, rf_y_pred))\n",
    "print(classification_report(y_test, rf_y_pred))"
   ]
  },
  {
   "cell_type": "markdown",
   "metadata": {
    "id": "TcYXzNF5N4Zf"
   },
   "source": [
    "2. GBM"
   ]
  },
  {
   "cell_type": "code",
   "execution_count": 12,
   "metadata": {
    "id": "KegDFkXoNUD0"
   },
   "outputs": [],
   "source": [
    "# GBM\n",
    "from sklearn.ensemble import GradientBoostingClassifier\n",
    "\n",
    "clf = GradientBoostingClassifier(random_state = 0)\n",
    "clf = clf.fit(X_train, y_train)\n",
    "\n",
    "gbm_y_pred = clf.predict(X_test)"
   ]
  },
  {
   "cell_type": "markdown",
   "metadata": {
    "id": "2Raxu7g1kKXI"
   },
   "source": [
    "Evaluate\n"
   ]
  },
  {
   "cell_type": "code",
   "execution_count": 13,
   "metadata": {
    "colab": {
     "base_uri": "https://localhost:8080/"
    },
    "executionInfo": {
     "elapsed": 65,
     "status": "ok",
     "timestamp": 1670417260182,
     "user": {
      "displayName": "우자",
      "userId": "03988273073279604493"
     },
     "user_tz": -540
    },
    "id": "6P9ArztBNUA_",
    "outputId": "df169d36-8785-477e-e6e8-82163f7bd21a"
   },
   "outputs": [
    {
     "name": "stdout",
     "output_type": "stream",
     "text": [
      "[[  1   2   0   0   1   0]\n",
      " [  1   2  11   3   2   0]\n",
      " [  2  12 169  49   6   0]\n",
      " [  0   9  54 119  38   3]\n",
      " [  0   0   0  22  43   5]\n",
      " [  0   0   0   0   6   0]]\n",
      "              precision    recall  f1-score   support\n",
      "\n",
      "           3       0.25      0.25      0.25         4\n",
      "           4       0.08      0.11      0.09        19\n",
      "           5       0.72      0.71      0.72       238\n",
      "           6       0.62      0.53      0.57       223\n",
      "           7       0.45      0.61      0.52        70\n",
      "           8       0.00      0.00      0.00         6\n",
      "\n",
      "    accuracy                           0.60       560\n",
      "   macro avg       0.35      0.37      0.36       560\n",
      "weighted avg       0.61      0.60      0.60       560\n",
      "\n"
     ]
    }
   ],
   "source": [
    "from sklearn.metrics import confusion_matrix, classification_report\n",
    "\n",
    "print(confusion_matrix(y_test, gbm_y_pred))\n",
    "print(classification_report(y_test, gbm_y_pred))"
   ]
  },
  {
   "cell_type": "markdown",
   "metadata": {
    "id": "imM6gY5xO3Ny"
   },
   "source": [
    "3. Logistic Regression"
   ]
  },
  {
   "cell_type": "code",
   "execution_count": 14,
   "metadata": {
    "colab": {
     "base_uri": "https://localhost:8080/"
    },
    "executionInfo": {
     "elapsed": 62,
     "status": "ok",
     "timestamp": 1670417260183,
     "user": {
      "displayName": "우자",
      "userId": "03988273073279604493"
     },
     "user_tz": -540
    },
    "id": "vIIQ5Ek5NT-a",
    "outputId": "ab2ecaf4-6356-4162-cf71-3caff6599bae"
   },
   "outputs": [
    {
     "name": "stderr",
     "output_type": "stream",
     "text": [
      "C:\\Users\\user\\AppData\\Roaming\\Python\\Python39\\site-packages\\sklearn\\linear_model\\_logistic.py:444: ConvergenceWarning: lbfgs failed to converge (status=1):\n",
      "STOP: TOTAL NO. of ITERATIONS REACHED LIMIT.\n",
      "\n",
      "Increase the number of iterations (max_iter) or scale the data as shown in:\n",
      "    https://scikit-learn.org/stable/modules/preprocessing.html\n",
      "Please also refer to the documentation for alternative solver options:\n",
      "    https://scikit-learn.org/stable/modules/linear_model.html#logistic-regression\n",
      "  n_iter_i = _check_optimize_result(\n"
     ]
    }
   ],
   "source": [
    "# Logistic Regression\n",
    "from sklearn.linear_model import LogisticRegression\n",
    "\n",
    "clf = LogisticRegression(random_state = 0)\n",
    "clf = clf.fit(X_train, y_train)\n",
    "\n",
    "lr_y_pred = clf.predict(X_test)"
   ]
  },
  {
   "cell_type": "markdown",
   "metadata": {
    "id": "DHj4EOyIkLvN"
   },
   "source": [
    "Evaluate\n"
   ]
  },
  {
   "cell_type": "code",
   "execution_count": 15,
   "metadata": {
    "colab": {
     "base_uri": "https://localhost:8080/"
    },
    "executionInfo": {
     "elapsed": 62,
     "status": "ok",
     "timestamp": 1670417260188,
     "user": {
      "displayName": "우자",
      "userId": "03988273073279604493"
     },
     "user_tz": -540
    },
    "id": "iSLyaPAeNT72",
    "outputId": "1088dff4-dc48-4f1c-e4c3-a45a6773403d"
   },
   "outputs": [
    {
     "name": "stdout",
     "output_type": "stream",
     "text": [
      "[[  1   1   1   1   0   0]\n",
      " [  4   5   4   1   4   1]\n",
      " [ 26  40 127  24  18   3]\n",
      " [ 24  30  48  41  54  26]\n",
      " [  4   0   4   9  38  15]\n",
      " [  0   0   0   0   6   0]]\n",
      "              precision    recall  f1-score   support\n",
      "\n",
      "           3       0.02      0.25      0.03         4\n",
      "           4       0.07      0.26      0.11        19\n",
      "           5       0.69      0.53      0.60       238\n",
      "           6       0.54      0.18      0.27       223\n",
      "           7       0.32      0.54      0.40        70\n",
      "           8       0.00      0.00      0.00         6\n",
      "\n",
      "    accuracy                           0.38       560\n",
      "   macro avg       0.27      0.30      0.24       560\n",
      "weighted avg       0.55      0.38      0.42       560\n",
      "\n"
     ]
    }
   ],
   "source": [
    "from sklearn.metrics import confusion_matrix, classification_report\n",
    "\n",
    "print(confusion_matrix(y_test, lr_y_pred))\n",
    "print(classification_report(y_test, lr_y_pred))"
   ]
  },
  {
   "cell_type": "markdown",
   "metadata": {
    "id": "fWD2CdqZO5zo"
   },
   "source": [
    "4. KNN"
   ]
  },
  {
   "cell_type": "code",
   "execution_count": 16,
   "metadata": {
    "id": "kt7R27ORNT27"
   },
   "outputs": [],
   "source": [
    "from sklearn.neighbors import KNeighborsClassifier\n",
    "\n",
    "knn = KNeighborsClassifier(n_neighbors=3)\n",
    "knn.fit(X_train, y_train)\n",
    "\n",
    "knn_y_pred = knn.predict(X_test)"
   ]
  },
  {
   "cell_type": "markdown",
   "metadata": {
    "id": "c57QbMr9kMNg"
   },
   "source": [
    "Evaluate\n"
   ]
  },
  {
   "cell_type": "code",
   "execution_count": 17,
   "metadata": {
    "colab": {
     "base_uri": "https://localhost:8080/"
    },
    "executionInfo": {
     "elapsed": 452,
     "status": "ok",
     "timestamp": 1670417260582,
     "user": {
      "displayName": "우자",
      "userId": "03988273073279604493"
     },
     "user_tz": -540
    },
    "id": "DXhGwB2lLbDD",
    "outputId": "6e8ad7a4-b522-4e1f-f8b9-7af970f63a1b"
   },
   "outputs": [
    {
     "name": "stdout",
     "output_type": "stream",
     "text": [
      "[[  1   1   0   1   1   0]\n",
      " [  3   4   5   4   3   0]\n",
      " [ 10  29 130  43  19   7]\n",
      " [  9  25  63  70  36  20]\n",
      " [  1   6   7  11  38   7]\n",
      " [  0   0   0   0   6   0]]\n",
      "              precision    recall  f1-score   support\n",
      "\n",
      "           3       0.04      0.25      0.07         4\n",
      "           4       0.06      0.21      0.10        19\n",
      "           5       0.63      0.55      0.59       238\n",
      "           6       0.54      0.31      0.40       223\n",
      "           7       0.37      0.54      0.44        70\n",
      "           8       0.00      0.00      0.00         6\n",
      "\n",
      "    accuracy                           0.43       560\n",
      "   macro avg       0.27      0.31      0.27       560\n",
      "weighted avg       0.53      0.43      0.47       560\n",
      "\n"
     ]
    }
   ],
   "source": [
    "from sklearn.metrics import confusion_matrix, classification_report\n",
    "\n",
    "print(confusion_matrix(y_test, knn_y_pred))\n",
    "print(classification_report(y_test, knn_y_pred))"
   ]
  },
  {
   "cell_type": "markdown",
   "metadata": {
    "id": "jtBnNyuPb3ip"
   },
   "source": [
    "#### Classification and Result with ADASYN"
   ]
  },
  {
   "cell_type": "markdown",
   "metadata": {
    "id": "23y8fpBElgH1"
   },
   "source": [
    "Construct New training set by Combining newly oversampled"
   ]
  },
  {
   "cell_type": "code",
   "execution_count": 18,
   "metadata": {
    "id": "OoO_JFTfcUiD"
   },
   "outputs": [],
   "source": [
    "df_train_ads = pd.concat([df_train, list_new_sample[1].sample(n = 1479, random_state = 0)], axis = 0, ignore_index = True)"
   ]
  },
  {
   "cell_type": "code",
   "execution_count": 19,
   "metadata": {
    "id": "mpEgIfuycUiE"
   },
   "outputs": [],
   "source": [
    "X_train = df_train_ads[columns]\n",
    "y_train = df_train_ads['quality']"
   ]
  },
  {
   "cell_type": "markdown",
   "metadata": {
    "id": "dTJsJbc-cUiE"
   },
   "source": [
    "1. Random Forest"
   ]
  },
  {
   "cell_type": "code",
   "execution_count": 20,
   "metadata": {
    "id": "eIYGVEHJcUiE"
   },
   "outputs": [],
   "source": [
    "# RF\n",
    "from sklearn.ensemble import RandomForestClassifier\n",
    "\n",
    "clf = RandomForestClassifier(random_state = 0)\n",
    "clf.fit(X_train, y_train)\n",
    "\n",
    "rf_y_pred = clf.predict(X_test)"
   ]
  },
  {
   "cell_type": "markdown",
   "metadata": {
    "id": "rOqZYU0ll5ri"
   },
   "source": [
    ">  Evaluate\n"
   ]
  },
  {
   "cell_type": "code",
   "execution_count": 21,
   "metadata": {
    "colab": {
     "base_uri": "https://localhost:8080/"
    },
    "executionInfo": {
     "elapsed": 404,
     "status": "ok",
     "timestamp": 1670417261365,
     "user": {
      "displayName": "우자",
      "userId": "03988273073279604493"
     },
     "user_tz": -540
    },
    "id": "do9N41JTcUiE",
    "outputId": "6f4fff6d-3f3f-4d0f-db24-e70ac21823c1"
   },
   "outputs": [
    {
     "name": "stdout",
     "output_type": "stream",
     "text": [
      "[[  1   2   0   1   0   0]\n",
      " [  1   3   9   4   2   0]\n",
      " [  3  15 176  41   3   0]\n",
      " [  2   6  55 127  29   4]\n",
      " [  0   0   1  19  45   5]\n",
      " [  0   0   0   1   5   0]]\n",
      "              precision    recall  f1-score   support\n",
      "\n",
      "           3       0.14      0.25      0.18         4\n",
      "           4       0.12      0.16      0.13        19\n",
      "           5       0.73      0.74      0.73       238\n",
      "           6       0.66      0.57      0.61       223\n",
      "           7       0.54      0.64      0.58        70\n",
      "           8       0.00      0.00      0.00         6\n",
      "\n",
      "    accuracy                           0.63       560\n",
      "   macro avg       0.36      0.39      0.37       560\n",
      "weighted avg       0.64      0.63      0.63       560\n",
      "\n"
     ]
    }
   ],
   "source": [
    "from sklearn.metrics import confusion_matrix, classification_report\n",
    "\n",
    "print(confusion_matrix(y_test, rf_y_pred))\n",
    "print(classification_report(y_test, rf_y_pred))"
   ]
  },
  {
   "cell_type": "markdown",
   "metadata": {
    "id": "VezFk_obcUiF"
   },
   "source": [
    "2. GBM"
   ]
  },
  {
   "cell_type": "code",
   "execution_count": 22,
   "metadata": {
    "id": "kuUJUOFdcUiF"
   },
   "outputs": [],
   "source": [
    "# GBM\n",
    "from sklearn.ensemble import GradientBoostingClassifier\n",
    "\n",
    "clf = GradientBoostingClassifier(random_state = 0)\n",
    "clf = clf.fit(X_train, y_train)\n",
    "\n",
    "gbm_y_pred = clf.predict(X_test)"
   ]
  },
  {
   "cell_type": "markdown",
   "metadata": {
    "id": "ASp54DKKl8_Z"
   },
   "source": [
    ">  Evaluate\n"
   ]
  },
  {
   "cell_type": "code",
   "execution_count": 23,
   "metadata": {
    "colab": {
     "base_uri": "https://localhost:8080/"
    },
    "executionInfo": {
     "elapsed": 44,
     "status": "ok",
     "timestamp": 1670417266981,
     "user": {
      "displayName": "우자",
      "userId": "03988273073279604493"
     },
     "user_tz": -540
    },
    "id": "_oSHP4mgcUiF",
    "outputId": "d71e1e98-7de7-422b-841e-42e2a16eded6"
   },
   "outputs": [
    {
     "name": "stdout",
     "output_type": "stream",
     "text": [
      "[[  1   2   0   1   0   0]\n",
      " [  0   5   8   4   2   0]\n",
      " [  2  15 169  47   5   0]\n",
      " [  2   9  48 119  42   3]\n",
      " [  0   0   1  20  40   9]\n",
      " [  0   0   0   0   6   0]]\n",
      "              precision    recall  f1-score   support\n",
      "\n",
      "           3       0.20      0.25      0.22         4\n",
      "           4       0.16      0.26      0.20        19\n",
      "           5       0.75      0.71      0.73       238\n",
      "           6       0.62      0.53      0.57       223\n",
      "           7       0.42      0.57      0.48        70\n",
      "           8       0.00      0.00      0.00         6\n",
      "\n",
      "    accuracy                           0.60       560\n",
      "   macro avg       0.36      0.39      0.37       560\n",
      "weighted avg       0.63      0.60      0.61       560\n",
      "\n"
     ]
    }
   ],
   "source": [
    "from sklearn.metrics import confusion_matrix, classification_report\n",
    "\n",
    "print(confusion_matrix(y_test, gbm_y_pred))\n",
    "print(classification_report(y_test, gbm_y_pred))"
   ]
  },
  {
   "cell_type": "markdown",
   "metadata": {
    "id": "rPN15ndGcUiF"
   },
   "source": [
    "3. Logistic Regression"
   ]
  },
  {
   "cell_type": "code",
   "execution_count": 24,
   "metadata": {
    "colab": {
     "base_uri": "https://localhost:8080/"
    },
    "executionInfo": {
     "elapsed": 420,
     "status": "ok",
     "timestamp": 1670417267362,
     "user": {
      "displayName": "우자",
      "userId": "03988273073279604493"
     },
     "user_tz": -540
    },
    "id": "k8swqQCCcUiF",
    "outputId": "61114e8b-e224-4740-b703-4029b11c0366"
   },
   "outputs": [
    {
     "name": "stderr",
     "output_type": "stream",
     "text": [
      "C:\\Users\\user\\AppData\\Roaming\\Python\\Python39\\site-packages\\sklearn\\linear_model\\_logistic.py:444: ConvergenceWarning: lbfgs failed to converge (status=1):\n",
      "STOP: TOTAL NO. of ITERATIONS REACHED LIMIT.\n",
      "\n",
      "Increase the number of iterations (max_iter) or scale the data as shown in:\n",
      "    https://scikit-learn.org/stable/modules/preprocessing.html\n",
      "Please also refer to the documentation for alternative solver options:\n",
      "    https://scikit-learn.org/stable/modules/linear_model.html#logistic-regression\n",
      "  n_iter_i = _check_optimize_result(\n"
     ]
    }
   ],
   "source": [
    "# Logistic Regression\n",
    "from sklearn.linear_model import LogisticRegression\n",
    "\n",
    "clf = LogisticRegression(random_state = 0)\n",
    "clf = clf.fit(X_train, y_train)\n",
    "\n",
    "lr_y_pred = clf.predict(X_test)"
   ]
  },
  {
   "cell_type": "markdown",
   "metadata": {
    "id": "vX5TDsK3l9hx"
   },
   "source": [
    ">  Evaluate\n"
   ]
  },
  {
   "cell_type": "code",
   "execution_count": 25,
   "metadata": {
    "colab": {
     "base_uri": "https://localhost:8080/"
    },
    "executionInfo": {
     "elapsed": 5,
     "status": "ok",
     "timestamp": 1670417267362,
     "user": {
      "displayName": "우자",
      "userId": "03988273073279604493"
     },
     "user_tz": -540
    },
    "id": "QcCnijyFcUiF",
    "outputId": "e962eca3-e7bc-4c34-ec3b-524d407ab6d6"
   },
   "outputs": [
    {
     "name": "stdout",
     "output_type": "stream",
     "text": [
      "[[ 1  2  0  1  0  0]\n",
      " [ 5  6  2  2  2  2]\n",
      " [31 67 92 30 15  3]\n",
      " [25 46 28 55 43 26]\n",
      " [ 2  2  2 11 29 24]\n",
      " [ 0  0  0  0  5  1]]\n",
      "              precision    recall  f1-score   support\n",
      "\n",
      "           3       0.02      0.25      0.03         4\n",
      "           4       0.05      0.32      0.08        19\n",
      "           5       0.74      0.39      0.51       238\n",
      "           6       0.56      0.25      0.34       223\n",
      "           7       0.31      0.41      0.35        70\n",
      "           8       0.02      0.17      0.03         6\n",
      "\n",
      "    accuracy                           0.33       560\n",
      "   macro avg       0.28      0.30      0.22       560\n",
      "weighted avg       0.58      0.33      0.40       560\n",
      "\n"
     ]
    }
   ],
   "source": [
    "from sklearn.metrics import confusion_matrix, classification_report\n",
    "\n",
    "print(confusion_matrix(y_test, lr_y_pred))\n",
    "print(classification_report(y_test, lr_y_pred))"
   ]
  },
  {
   "cell_type": "markdown",
   "metadata": {
    "id": "5SK4ax_RcUiF"
   },
   "source": [
    "4. KNN"
   ]
  },
  {
   "cell_type": "code",
   "execution_count": 26,
   "metadata": {
    "id": "xH86mtO_cUiG"
   },
   "outputs": [],
   "source": [
    "# KNN\n",
    "from sklearn.neighbors import KNeighborsClassifier\n",
    "\n",
    "knn = KNeighborsClassifier(n_neighbors=3)\n",
    "knn.fit(X_train, y_train)\n",
    "\n",
    "knn_y_pred = knn.predict(X_test)"
   ]
  },
  {
   "cell_type": "markdown",
   "metadata": {
    "id": "AQ5u19jJl94W"
   },
   "source": [
    ">  Evaluate\n"
   ]
  },
  {
   "cell_type": "code",
   "execution_count": 27,
   "metadata": {
    "colab": {
     "base_uri": "https://localhost:8080/"
    },
    "executionInfo": {
     "elapsed": 287,
     "status": "ok",
     "timestamp": 1670417267646,
     "user": {
      "displayName": "우자",
      "userId": "03988273073279604493"
     },
     "user_tz": -540
    },
    "id": "5HHThbz5cUiG",
    "outputId": "08a1501b-3bac-4ec4-b26c-7f485a1a32c9"
   },
   "outputs": [
    {
     "name": "stdout",
     "output_type": "stream",
     "text": [
      "[[  1   1   0   0   2   0]\n",
      " [  3   5   5   2   3   1]\n",
      " [ 14  51 115  39  13   6]\n",
      " [ 12  42  54  64  30  21]\n",
      " [  2   6   8  14  32   8]\n",
      " [  0   0   0   1   5   0]]\n",
      "              precision    recall  f1-score   support\n",
      "\n",
      "           3       0.03      0.25      0.06         4\n",
      "           4       0.05      0.26      0.08        19\n",
      "           5       0.63      0.48      0.55       238\n",
      "           6       0.53      0.29      0.37       223\n",
      "           7       0.38      0.46      0.41        70\n",
      "           8       0.00      0.00      0.00         6\n",
      "\n",
      "    accuracy                           0.39       560\n",
      "   macro avg       0.27      0.29      0.24       560\n",
      "weighted avg       0.53      0.39      0.44       560\n",
      "\n"
     ]
    }
   ],
   "source": [
    "from sklearn.metrics import confusion_matrix, classification_report\n",
    "\n",
    "print(confusion_matrix(y_test, knn_y_pred))\n",
    "print(classification_report(y_test, knn_y_pred))"
   ]
  },
  {
   "cell_type": "markdown",
   "metadata": {
    "id": "VlOQ7yFxqAsd"
   },
   "source": [
    "#### Classification and Result with SMOTE Tomek"
   ]
  },
  {
   "cell_type": "markdown",
   "metadata": {
    "id": "IS5x2JC_mR0A"
   },
   "source": [
    "Construct New training set by Combining newly oversampled"
   ]
  },
  {
   "cell_type": "code",
   "execution_count": 28,
   "metadata": {
    "id": "sFOM_USYqAse"
   },
   "outputs": [],
   "source": [
    "df_train_smt = pd.concat([df_train, list_new_sample[2].sample(n = 1479, random_state = 0)], axis = 0, ignore_index = True)"
   ]
  },
  {
   "cell_type": "code",
   "execution_count": 29,
   "metadata": {
    "id": "5PyVK1-iqAse"
   },
   "outputs": [],
   "source": [
    "X_train = df_train_smt[columns]\n",
    "y_train = df_train_smt['quality']"
   ]
  },
  {
   "cell_type": "markdown",
   "metadata": {
    "id": "-07BUtUCqAse"
   },
   "source": [
    "1. Random Forest"
   ]
  },
  {
   "cell_type": "code",
   "execution_count": 30,
   "metadata": {
    "id": "zkCRnGu4qAse"
   },
   "outputs": [],
   "source": [
    "# RF\n",
    "from sklearn.ensemble import RandomForestClassifier\n",
    "\n",
    "clf = RandomForestClassifier(random_state = 0)\n",
    "clf.fit(X_train, y_train)\n",
    "\n",
    "rf_y_pred = clf.predict(X_test)"
   ]
  },
  {
   "cell_type": "markdown",
   "metadata": {
    "id": "Jfk41XwjmYzv"
   },
   "source": [
    ">  Evaluate\n"
   ]
  },
  {
   "cell_type": "code",
   "execution_count": 31,
   "metadata": {
    "colab": {
     "base_uri": "https://localhost:8080/"
    },
    "executionInfo": {
     "elapsed": 10,
     "status": "ok",
     "timestamp": 1670417269043,
     "user": {
      "displayName": "우자",
      "userId": "03988273073279604493"
     },
     "user_tz": -540
    },
    "id": "IYIHMdJGqAse",
    "outputId": "728ee7af-c093-4331-877f-31f3d458d92f"
   },
   "outputs": [
    {
     "name": "stdout",
     "output_type": "stream",
     "text": [
      "[[  1   1   2   0   0   0]\n",
      " [  2   3  10   3   1   0]\n",
      " [  3  12 178  43   2   0]\n",
      " [  0   4  60 129  28   2]\n",
      " [  0   0   1  20  46   3]\n",
      " [  0   0   0   1   5   0]]\n",
      "              precision    recall  f1-score   support\n",
      "\n",
      "           3       0.17      0.25      0.20         4\n",
      "           4       0.15      0.16      0.15        19\n",
      "           5       0.71      0.75      0.73       238\n",
      "           6       0.66      0.58      0.62       223\n",
      "           7       0.56      0.66      0.61        70\n",
      "           8       0.00      0.00      0.00         6\n",
      "\n",
      "    accuracy                           0.64       560\n",
      "   macro avg       0.37      0.40      0.38       560\n",
      "weighted avg       0.64      0.64      0.64       560\n",
      "\n"
     ]
    }
   ],
   "source": [
    "from sklearn.metrics import confusion_matrix, classification_report\n",
    "\n",
    "print(confusion_matrix(y_test, rf_y_pred))\n",
    "print(classification_report(y_test, rf_y_pred))"
   ]
  },
  {
   "cell_type": "markdown",
   "metadata": {
    "id": "sPuvht3jqAsf"
   },
   "source": [
    "2. GBM"
   ]
  },
  {
   "cell_type": "code",
   "execution_count": 32,
   "metadata": {
    "id": "3s9bDrTmqAsf"
   },
   "outputs": [],
   "source": [
    "# GBM\n",
    "from sklearn.ensemble import GradientBoostingClassifier\n",
    "\n",
    "clf = GradientBoostingClassifier(random_state = 0)\n",
    "clf = clf.fit(X_train, y_train)\n",
    "\n",
    "gbm_y_pred = clf.predict(X_test)"
   ]
  },
  {
   "cell_type": "markdown",
   "metadata": {
    "id": "TD7wDzlKmbD1"
   },
   "source": [
    ">  Evaluate\n"
   ]
  },
  {
   "cell_type": "code",
   "execution_count": 33,
   "metadata": {
    "colab": {
     "base_uri": "https://localhost:8080/"
    },
    "executionInfo": {
     "elapsed": 26,
     "status": "ok",
     "timestamp": 1670417275217,
     "user": {
      "displayName": "우자",
      "userId": "03988273073279604493"
     },
     "user_tz": -540
    },
    "id": "h8wl8DA9qAsf",
    "outputId": "8052a36d-06db-4a0f-9613-7e8546f19d90"
   },
   "outputs": [
    {
     "name": "stdout",
     "output_type": "stream",
     "text": [
      "[[  1   2   0   0   1   0]\n",
      " [  1   4  10   1   3   0]\n",
      " [  1  14 171  45   7   0]\n",
      " [  0   9  55 115  43   1]\n",
      " [  0   0   1  20  43   6]\n",
      " [  0   0   0   0   6   0]]\n",
      "              precision    recall  f1-score   support\n",
      "\n",
      "           3       0.33      0.25      0.29         4\n",
      "           4       0.14      0.21      0.17        19\n",
      "           5       0.72      0.72      0.72       238\n",
      "           6       0.64      0.52      0.57       223\n",
      "           7       0.42      0.61      0.50        70\n",
      "           8       0.00      0.00      0.00         6\n",
      "\n",
      "    accuracy                           0.60       560\n",
      "   macro avg       0.37      0.38      0.37       560\n",
      "weighted avg       0.62      0.60      0.60       560\n",
      "\n"
     ]
    }
   ],
   "source": [
    "from sklearn.metrics import confusion_matrix, classification_report\n",
    "\n",
    "print(confusion_matrix(y_test, gbm_y_pred))\n",
    "print(classification_report(y_test, gbm_y_pred))"
   ]
  },
  {
   "cell_type": "markdown",
   "metadata": {
    "id": "QvM1SUZoqAsf"
   },
   "source": [
    "3. Logistic Regression"
   ]
  },
  {
   "cell_type": "code",
   "execution_count": 34,
   "metadata": {
    "colab": {
     "base_uri": "https://localhost:8080/"
    },
    "executionInfo": {
     "elapsed": 282,
     "status": "ok",
     "timestamp": 1670417275475,
     "user": {
      "displayName": "우자",
      "userId": "03988273073279604493"
     },
     "user_tz": -540
    },
    "id": "UtV5ift5qAsf",
    "outputId": "56a3adea-0bde-4d83-e004-ec87ba92c867"
   },
   "outputs": [
    {
     "name": "stderr",
     "output_type": "stream",
     "text": [
      "C:\\Users\\user\\AppData\\Roaming\\Python\\Python39\\site-packages\\sklearn\\linear_model\\_logistic.py:444: ConvergenceWarning: lbfgs failed to converge (status=1):\n",
      "STOP: TOTAL NO. of ITERATIONS REACHED LIMIT.\n",
      "\n",
      "Increase the number of iterations (max_iter) or scale the data as shown in:\n",
      "    https://scikit-learn.org/stable/modules/preprocessing.html\n",
      "Please also refer to the documentation for alternative solver options:\n",
      "    https://scikit-learn.org/stable/modules/linear_model.html#logistic-regression\n",
      "  n_iter_i = _check_optimize_result(\n"
     ]
    }
   ],
   "source": [
    "# Logistic Regression\n",
    "from sklearn.linear_model import LogisticRegression\n",
    "\n",
    "clf = LogisticRegression(random_state = 0)\n",
    "clf = clf.fit(X_train, y_train)\n",
    "\n",
    "lr_y_pred = clf.predict(X_test)"
   ]
  },
  {
   "cell_type": "markdown",
   "metadata": {
    "id": "K2JMXHP2mbkN"
   },
   "source": [
    ">  Evaluate\n"
   ]
  },
  {
   "cell_type": "code",
   "execution_count": 35,
   "metadata": {
    "colab": {
     "base_uri": "https://localhost:8080/"
    },
    "executionInfo": {
     "elapsed": 3,
     "status": "ok",
     "timestamp": 1670417275475,
     "user": {
      "displayName": "우자",
      "userId": "03988273073279604493"
     },
     "user_tz": -540
    },
    "id": "lvFhUtu-qAsf",
    "outputId": "55d5c5b6-2fc8-42e9-e31c-304a1f3b9d77"
   },
   "outputs": [
    {
     "name": "stdout",
     "output_type": "stream",
     "text": [
      "[[  1   2   0   1   0   0]\n",
      " [  3   8   3   1   3   1]\n",
      " [ 29  50 116  25  15   3]\n",
      " [ 27  34  40  50  47  25]\n",
      " [  4   1   2  10  37  16]\n",
      " [  0   0   0   0   6   0]]\n",
      "              precision    recall  f1-score   support\n",
      "\n",
      "           3       0.02      0.25      0.03         4\n",
      "           4       0.08      0.42      0.14        19\n",
      "           5       0.72      0.49      0.58       238\n",
      "           6       0.57      0.22      0.32       223\n",
      "           7       0.34      0.53      0.42        70\n",
      "           8       0.00      0.00      0.00         6\n",
      "\n",
      "    accuracy                           0.38       560\n",
      "   macro avg       0.29      0.32      0.25       560\n",
      "weighted avg       0.58      0.38      0.43       560\n",
      "\n"
     ]
    }
   ],
   "source": [
    "from sklearn.metrics import confusion_matrix, classification_report\n",
    "\n",
    "print(confusion_matrix(y_test, lr_y_pred))\n",
    "print(classification_report(y_test, lr_y_pred))"
   ]
  },
  {
   "cell_type": "markdown",
   "metadata": {
    "id": "HEh-ZVDXqAsg"
   },
   "source": [
    "4. KNN"
   ]
  },
  {
   "cell_type": "code",
   "execution_count": 36,
   "metadata": {
    "id": "GDZdAhDqqAsg"
   },
   "outputs": [],
   "source": [
    "from sklearn.neighbors import KNeighborsClassifier\n",
    "\n",
    "knn = KNeighborsClassifier(n_neighbors=3)\n",
    "knn.fit(X_train, y_train)\n",
    "\n",
    "knn_y_pred = knn.predict(X_test)"
   ]
  },
  {
   "cell_type": "markdown",
   "metadata": {
    "id": "GmKR3hn5mcAr"
   },
   "source": [
    ">  Evaluate\n"
   ]
  },
  {
   "cell_type": "code",
   "execution_count": 37,
   "metadata": {
    "colab": {
     "base_uri": "https://localhost:8080/"
    },
    "executionInfo": {
     "elapsed": 339,
     "status": "ok",
     "timestamp": 1670417275812,
     "user": {
      "displayName": "우자",
      "userId": "03988273073279604493"
     },
     "user_tz": -540
    },
    "id": "eIYC3jOjqAsg",
    "outputId": "71185d98-ff1c-49d5-f277-867f9185c3bb"
   },
   "outputs": [
    {
     "name": "stdout",
     "output_type": "stream",
     "text": [
      "[[  1   1   0   0   2   0]\n",
      " [  3   4   5   4   2   1]\n",
      " [ 10  31 131  41  19   6]\n",
      " [ 10  27  63  68  35  20]\n",
      " [  1   6   6  15  35   7]\n",
      " [  0   0   0   0   6   0]]\n",
      "              precision    recall  f1-score   support\n",
      "\n",
      "           3       0.04      0.25      0.07         4\n",
      "           4       0.06      0.21      0.09        19\n",
      "           5       0.64      0.55      0.59       238\n",
      "           6       0.53      0.30      0.39       223\n",
      "           7       0.35      0.50      0.41        70\n",
      "           8       0.00      0.00      0.00         6\n",
      "\n",
      "    accuracy                           0.43       560\n",
      "   macro avg       0.27      0.30      0.26       560\n",
      "weighted avg       0.53      0.43      0.46       560\n",
      "\n"
     ]
    }
   ],
   "source": [
    "from sklearn.metrics import confusion_matrix, classification_report\n",
    "\n",
    "print(confusion_matrix(y_test, knn_y_pred))\n",
    "print(classification_report(y_test, knn_y_pred))"
   ]
  },
  {
   "cell_type": "markdown",
   "metadata": {
    "id": "Nj1EFgA7rnwA"
   },
   "source": [
    "#### Classification and Result with Boderline SMOTE"
   ]
  },
  {
   "cell_type": "markdown",
   "metadata": {
    "id": "p4dsXTUdmjPP"
   },
   "source": [
    "Construct New training set by Combining newly oversampled"
   ]
  },
  {
   "cell_type": "code",
   "execution_count": 38,
   "metadata": {
    "id": "Wm8JQyTMrmad"
   },
   "outputs": [],
   "source": [
    "df_train_bsm = pd.concat([df_train, list_new_sample[3].sample(n = 1479, random_state = 0)], axis = 0, ignore_index = True)"
   ]
  },
  {
   "cell_type": "code",
   "execution_count": 39,
   "metadata": {
    "id": "Wh4JL-w2rmad"
   },
   "outputs": [],
   "source": [
    "X_train = df_train_bsm[columns]\n",
    "y_train = df_train_bsm['quality']"
   ]
  },
  {
   "cell_type": "markdown",
   "metadata": {
    "id": "WhMbElT2rmad"
   },
   "source": [
    "1. Random Forest"
   ]
  },
  {
   "cell_type": "code",
   "execution_count": 40,
   "metadata": {
    "id": "owp2aYTGrmad"
   },
   "outputs": [],
   "source": [
    "# RF\n",
    "from sklearn.ensemble import RandomForestClassifier\n",
    "\n",
    "clf = RandomForestClassifier(random_state = 0)\n",
    "clf.fit(X_train, y_train)\n",
    "\n",
    "rf_y_pred = clf.predict(X_test)"
   ]
  },
  {
   "cell_type": "markdown",
   "metadata": {
    "id": "is6rUcNCmygU"
   },
   "source": [
    ">  Evaluate\n"
   ]
  },
  {
   "cell_type": "code",
   "execution_count": 41,
   "metadata": {
    "colab": {
     "base_uri": "https://localhost:8080/"
    },
    "executionInfo": {
     "elapsed": 6,
     "status": "ok",
     "timestamp": 1670417276840,
     "user": {
      "displayName": "우자",
      "userId": "03988273073279604493"
     },
     "user_tz": -540
    },
    "id": "ZAKCCiWArmae",
    "outputId": "4f1b8b98-6906-4999-e038-33059483d684"
   },
   "outputs": [
    {
     "name": "stdout",
     "output_type": "stream",
     "text": [
      "[[  0   1   2   1   0   0]\n",
      " [  0   3   8   7   1   0]\n",
      " [  0   9 190  33   6   0]\n",
      " [  0   6  57 120  40   0]\n",
      " [  0   0   2  17  51   0]\n",
      " [  0   0   0   0   6   0]]\n",
      "              precision    recall  f1-score   support\n",
      "\n",
      "           3       0.00      0.00      0.00         4\n",
      "           4       0.16      0.16      0.16        19\n",
      "           5       0.73      0.80      0.76       238\n",
      "           6       0.67      0.54      0.60       223\n",
      "           7       0.49      0.73      0.59        70\n",
      "           8       0.00      0.00      0.00         6\n",
      "\n",
      "    accuracy                           0.65       560\n",
      "   macro avg       0.34      0.37      0.35       560\n",
      "weighted avg       0.65      0.65      0.64       560\n",
      "\n"
     ]
    },
    {
     "name": "stderr",
     "output_type": "stream",
     "text": [
      "C:\\Users\\user\\AppData\\Roaming\\Python\\Python39\\site-packages\\sklearn\\metrics\\_classification.py:1334: UndefinedMetricWarning: Precision and F-score are ill-defined and being set to 0.0 in labels with no predicted samples. Use `zero_division` parameter to control this behavior.\n",
      "  _warn_prf(average, modifier, msg_start, len(result))\n",
      "C:\\Users\\user\\AppData\\Roaming\\Python\\Python39\\site-packages\\sklearn\\metrics\\_classification.py:1334: UndefinedMetricWarning: Precision and F-score are ill-defined and being set to 0.0 in labels with no predicted samples. Use `zero_division` parameter to control this behavior.\n",
      "  _warn_prf(average, modifier, msg_start, len(result))\n",
      "C:\\Users\\user\\AppData\\Roaming\\Python\\Python39\\site-packages\\sklearn\\metrics\\_classification.py:1334: UndefinedMetricWarning: Precision and F-score are ill-defined and being set to 0.0 in labels with no predicted samples. Use `zero_division` parameter to control this behavior.\n",
      "  _warn_prf(average, modifier, msg_start, len(result))\n"
     ]
    }
   ],
   "source": [
    "from sklearn.metrics import confusion_matrix, classification_report\n",
    "\n",
    "print(confusion_matrix(y_test, rf_y_pred))\n",
    "print(classification_report(y_test, rf_y_pred))"
   ]
  },
  {
   "cell_type": "markdown",
   "metadata": {
    "id": "vEK3GkUTrmae"
   },
   "source": [
    "2. GBM"
   ]
  },
  {
   "cell_type": "code",
   "execution_count": 42,
   "metadata": {
    "id": "STD9o_Iqrmae"
   },
   "outputs": [],
   "source": [
    "# GBM\n",
    "from sklearn.ensemble import GradientBoostingClassifier\n",
    "\n",
    "clf = GradientBoostingClassifier(random_state = 0)\n",
    "clf = clf.fit(X_train, y_train)\n",
    "\n",
    "gbm_y_pred = clf.predict(X_test)"
   ]
  },
  {
   "cell_type": "markdown",
   "metadata": {
    "id": "V--rZY0imzXH"
   },
   "source": [
    ">  Evaluate\n"
   ]
  },
  {
   "cell_type": "code",
   "execution_count": 43,
   "metadata": {
    "colab": {
     "base_uri": "https://localhost:8080/"
    },
    "executionInfo": {
     "elapsed": 32,
     "status": "ok",
     "timestamp": 1670417283768,
     "user": {
      "displayName": "우자",
      "userId": "03988273073279604493"
     },
     "user_tz": -540
    },
    "id": "G_IyNtGormae",
    "outputId": "e0f392e9-91e7-41df-ffe1-96843d49192e"
   },
   "outputs": [
    {
     "name": "stdout",
     "output_type": "stream",
     "text": [
      "[[  0   2   1   1   0   0]\n",
      " [  0   4   9   5   1   0]\n",
      " [  2  20 155  55   6   0]\n",
      " [  0  11  49 112  48   3]\n",
      " [  0   0   2  18  46   4]\n",
      " [  0   0   0   0   6   0]]\n",
      "              precision    recall  f1-score   support\n",
      "\n",
      "           3       0.00      0.00      0.00         4\n",
      "           4       0.11      0.21      0.14        19\n",
      "           5       0.72      0.65      0.68       238\n",
      "           6       0.59      0.50      0.54       223\n",
      "           7       0.43      0.66      0.52        70\n",
      "           8       0.00      0.00      0.00         6\n",
      "\n",
      "    accuracy                           0.57       560\n",
      "   macro avg       0.31      0.34      0.31       560\n",
      "weighted avg       0.60      0.57      0.58       560\n",
      "\n"
     ]
    }
   ],
   "source": [
    "from sklearn.metrics import confusion_matrix, classification_report\n",
    "\n",
    "print(confusion_matrix(y_test, gbm_y_pred))\n",
    "print(classification_report(y_test, gbm_y_pred))"
   ]
  },
  {
   "cell_type": "markdown",
   "metadata": {
    "id": "0EAj_U5Yrmae"
   },
   "source": [
    "3. Logistic Regression"
   ]
  },
  {
   "cell_type": "code",
   "execution_count": 44,
   "metadata": {
    "colab": {
     "base_uri": "https://localhost:8080/"
    },
    "executionInfo": {
     "elapsed": 591,
     "status": "ok",
     "timestamp": 1670417284331,
     "user": {
      "displayName": "우자",
      "userId": "03988273073279604493"
     },
     "user_tz": -540
    },
    "id": "Ee7Bbry3rmae",
    "outputId": "4123c6bb-8621-46ca-ceaa-1390fe105485"
   },
   "outputs": [
    {
     "name": "stderr",
     "output_type": "stream",
     "text": [
      "C:\\Users\\user\\AppData\\Roaming\\Python\\Python39\\site-packages\\sklearn\\linear_model\\_logistic.py:444: ConvergenceWarning: lbfgs failed to converge (status=1):\n",
      "STOP: TOTAL NO. of ITERATIONS REACHED LIMIT.\n",
      "\n",
      "Increase the number of iterations (max_iter) or scale the data as shown in:\n",
      "    https://scikit-learn.org/stable/modules/preprocessing.html\n",
      "Please also refer to the documentation for alternative solver options:\n",
      "    https://scikit-learn.org/stable/modules/linear_model.html#logistic-regression\n",
      "  n_iter_i = _check_optimize_result(\n"
     ]
    }
   ],
   "source": [
    "# Logistic Regression\n",
    "from sklearn.linear_model import LogisticRegression\n",
    "\n",
    "clf = LogisticRegression(random_state = 0)\n",
    "clf = clf.fit(X_train, y_train)\n",
    "\n",
    "lr_y_pred = clf.predict(X_test)"
   ]
  },
  {
   "cell_type": "markdown",
   "metadata": {
    "id": "hh0TSkVEmzwI"
   },
   "source": [
    ">  Evaluate\n"
   ]
  },
  {
   "cell_type": "code",
   "execution_count": 45,
   "metadata": {
    "colab": {
     "base_uri": "https://localhost:8080/"
    },
    "executionInfo": {
     "elapsed": 7,
     "status": "ok",
     "timestamp": 1670417284331,
     "user": {
      "displayName": "우자",
      "userId": "03988273073279604493"
     },
     "user_tz": -540
    },
    "id": "T9Xo2u5vrmae",
    "outputId": "be2b3cb3-04c5-43db-b582-aff37db1fe72"
   },
   "outputs": [
    {
     "name": "stdout",
     "output_type": "stream",
     "text": [
      "[[  0   3   0   1   0   0]\n",
      " [  0  13   2   1   3   0]\n",
      " [  0  87 108  14  29   0]\n",
      " [  0  63  36  24 100   0]\n",
      " [  0   3   4   2  61   0]\n",
      " [  0   0   0   0   6   0]]\n",
      "              precision    recall  f1-score   support\n",
      "\n",
      "           3       0.00      0.00      0.00         4\n",
      "           4       0.08      0.68      0.14        19\n",
      "           5       0.72      0.45      0.56       238\n",
      "           6       0.57      0.11      0.18       223\n",
      "           7       0.31      0.87      0.45        70\n",
      "           8       0.00      0.00      0.00         6\n",
      "\n",
      "    accuracy                           0.37       560\n",
      "   macro avg       0.28      0.35      0.22       560\n",
      "weighted avg       0.57      0.37      0.37       560\n",
      "\n"
     ]
    },
    {
     "name": "stderr",
     "output_type": "stream",
     "text": [
      "C:\\Users\\user\\AppData\\Roaming\\Python\\Python39\\site-packages\\sklearn\\metrics\\_classification.py:1334: UndefinedMetricWarning: Precision and F-score are ill-defined and being set to 0.0 in labels with no predicted samples. Use `zero_division` parameter to control this behavior.\n",
      "  _warn_prf(average, modifier, msg_start, len(result))\n",
      "C:\\Users\\user\\AppData\\Roaming\\Python\\Python39\\site-packages\\sklearn\\metrics\\_classification.py:1334: UndefinedMetricWarning: Precision and F-score are ill-defined and being set to 0.0 in labels with no predicted samples. Use `zero_division` parameter to control this behavior.\n",
      "  _warn_prf(average, modifier, msg_start, len(result))\n",
      "C:\\Users\\user\\AppData\\Roaming\\Python\\Python39\\site-packages\\sklearn\\metrics\\_classification.py:1334: UndefinedMetricWarning: Precision and F-score are ill-defined and being set to 0.0 in labels with no predicted samples. Use `zero_division` parameter to control this behavior.\n",
      "  _warn_prf(average, modifier, msg_start, len(result))\n"
     ]
    }
   ],
   "source": [
    "from sklearn.metrics import confusion_matrix, classification_report\n",
    "\n",
    "print(confusion_matrix(y_test, lr_y_pred))\n",
    "print(classification_report(y_test, lr_y_pred))"
   ]
  },
  {
   "cell_type": "markdown",
   "metadata": {
    "id": "AuAznZ5armaf"
   },
   "source": [
    "4. KNN"
   ]
  },
  {
   "cell_type": "code",
   "execution_count": 46,
   "metadata": {
    "id": "Q3BYkOOrrmaf"
   },
   "outputs": [],
   "source": [
    "from sklearn.neighbors import KNeighborsClassifier\n",
    "\n",
    "knn = KNeighborsClassifier(n_neighbors=3)\n",
    "knn.fit(X_train, y_train)\n",
    "\n",
    "knn_y_pred = knn.predict(X_test)"
   ]
  },
  {
   "cell_type": "markdown",
   "metadata": {
    "id": "Ajg-TGJum0N2"
   },
   "source": [
    ">  Evaluate\n"
   ]
  },
  {
   "cell_type": "code",
   "execution_count": 47,
   "metadata": {
    "colab": {
     "base_uri": "https://localhost:8080/"
    },
    "executionInfo": {
     "elapsed": 7,
     "status": "ok",
     "timestamp": 1670417284332,
     "user": {
      "displayName": "우자",
      "userId": "03988273073279604493"
     },
     "user_tz": -540
    },
    "id": "XMRLEs_Trmaf",
    "outputId": "d7e58e8b-a866-43d8-baeb-8a79825ad8a8"
   },
   "outputs": [
    {
     "name": "stdout",
     "output_type": "stream",
     "text": [
      "[[  0   1   1   0   2   0]\n",
      " [  0   4   7   5   3   0]\n",
      " [  0  39 128  43  28   0]\n",
      " [  0  36  65  74  48   0]\n",
      " [  0   5   9  11  45   0]\n",
      " [  0   0   0   2   4   0]]\n",
      "              precision    recall  f1-score   support\n",
      "\n",
      "           3       0.00      0.00      0.00         4\n",
      "           4       0.05      0.21      0.08        19\n",
      "           5       0.61      0.54      0.57       238\n",
      "           6       0.55      0.33      0.41       223\n",
      "           7       0.35      0.64      0.45        70\n",
      "           8       0.00      0.00      0.00         6\n",
      "\n",
      "    accuracy                           0.45       560\n",
      "   macro avg       0.26      0.29      0.25       560\n",
      "weighted avg       0.52      0.45      0.47       560\n",
      "\n"
     ]
    },
    {
     "name": "stderr",
     "output_type": "stream",
     "text": [
      "C:\\Users\\user\\AppData\\Roaming\\Python\\Python39\\site-packages\\sklearn\\metrics\\_classification.py:1334: UndefinedMetricWarning: Precision and F-score are ill-defined and being set to 0.0 in labels with no predicted samples. Use `zero_division` parameter to control this behavior.\n",
      "  _warn_prf(average, modifier, msg_start, len(result))\n",
      "C:\\Users\\user\\AppData\\Roaming\\Python\\Python39\\site-packages\\sklearn\\metrics\\_classification.py:1334: UndefinedMetricWarning: Precision and F-score are ill-defined and being set to 0.0 in labels with no predicted samples. Use `zero_division` parameter to control this behavior.\n",
      "  _warn_prf(average, modifier, msg_start, len(result))\n",
      "C:\\Users\\user\\AppData\\Roaming\\Python\\Python39\\site-packages\\sklearn\\metrics\\_classification.py:1334: UndefinedMetricWarning: Precision and F-score are ill-defined and being set to 0.0 in labels with no predicted samples. Use `zero_division` parameter to control this behavior.\n",
      "  _warn_prf(average, modifier, msg_start, len(result))\n"
     ]
    }
   ],
   "source": [
    "from sklearn.metrics import confusion_matrix, classification_report\n",
    "\n",
    "print(confusion_matrix(y_test, knn_y_pred))\n",
    "print(classification_report(y_test, knn_y_pred))"
   ]
  }
 ],
 "metadata": {
  "colab": {
   "collapsed_sections": [
    "VlOQ7yFxqAsd",
    "Nj1EFgA7rnwA"
   ],
   "provenance": []
  },
  "kernelspec": {
   "display_name": "Python 3 (ipykernel)",
   "language": "python",
   "name": "python3"
  },
  "language_info": {
   "codemirror_mode": {
    "name": "ipython",
    "version": 3
   },
   "file_extension": ".py",
   "mimetype": "text/x-python",
   "name": "python",
   "nbconvert_exporter": "python",
   "pygments_lexer": "ipython3",
   "version": "3.9.7"
  }
 },
 "nbformat": 4,
 "nbformat_minor": 1
}
